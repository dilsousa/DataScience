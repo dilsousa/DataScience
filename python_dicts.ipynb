{
 "cells": [
  {
   "cell_type": "code",
   "execution_count": null,
   "metadata": {},
   "outputs": [],
   "source": [
    "# Antes de começar, uma pequena introdução aos dicionários em Python"
   ]
  },
  {
   "cell_type": "code",
   "execution_count": null,
   "metadata": {},
   "outputs": [],
   "source": [
    "Dicionários podem armazenar diversos valores, além de strings e ints, é possível armazenar listas, arrays, funções, outros dicionários e muito mais!\n",
    "\n",
    "Os dicionários em Python são mapeamentos associativos desordenados, ou seja, o mapeamento é feito a partir de uma chave. \n",
    "\n",
    "Veja o exemplo abaixo:"
   ]
  },
  {
   "cell_type": "code",
   "execution_count": null,
   "metadata": {},
   "outputs": [],
   "source": [
    "#Note que o exemplo \"my_dict\" é um dicionário composto de 3 items, 3 chaves e 3 valores\n",
    "\n",
    "my_dict = {'chave1':'valor1', \n",
    "           'chave2':'valor2', \n",
    "           'chave3':'valor3'}\n",
    "\n",
    "my_dict"
   ]
  },
  {
   "cell_type": "code",
   "execution_count": null,
   "metadata": {},
   "outputs": [],
   "source": [
    "### Items\n",
    "\n",
    " Os items correspondem a todos os componentes do dicionário"
   ]
  },
  {
   "cell_type": "code",
   "execution_count": null,
   "metadata": {},
   "outputs": [],
   "source": [
    "my_dict.items()"
   ]
  },
  {
   "cell_type": "code",
   "execution_count": null,
   "metadata": {},
   "outputs": [],
   "source": [
    "### Chaves\n",
    "\n",
    " As Chaves correspondem a todos os primeiros items do dicionário"
   ]
  },
  {
   "cell_type": "code",
   "execution_count": null,
   "metadata": {},
   "outputs": [],
   "source": [
    "my_dict.keys()"
   ]
  },
  {
   "cell_type": "code",
   "execution_count": null,
   "metadata": {},
   "outputs": [],
   "source": [
    "### Valores\n",
    "\n",
    " Os valores correspondem a todos os segundos items do dicionário"
   ]
  },
  {
   "cell_type": "code",
   "execution_count": null,
   "metadata": {},
   "outputs": [],
   "source": [
    "my_dict.values()"
   ]
  },
  {
   "cell_type": "code",
   "execution_count": null,
   "metadata": {},
   "outputs": [],
   "source": [
    "**Veja abaixo alguns métodos úteis para utilizar neste notebook**\n",
    "\n",
    "<li>copy()\tReturns a copy of the dictionary\n",
    "<li>fromkeys()\tReturns a dictionary with the specified keys and value\n",
    "<li>get()\tReturns the value of the specified key\n",
    "<li>items()\tReturns a list containing a tuple for each key value pair\n",
    "<li>keys()\tReturns a list containing the dictionary's keys\n",
    "<li>pop()\tRemoves the element with the specified key\n",
    "<li>popitem()\tRemoves the last inserted key-value pair\n",
    "<li>setdefault()\tReturns the value of the specified key. If the key does not exist: insert the key, with the specified value\n",
    "<li>update()\tUpdates the dictionary with the specified key-value pairs\n",
    "<li>values()\tReturns a list of all the values in the dictionary\n",
    "   "
   ]
  },
  {
   "cell_type": "code",
   "execution_count": null,
   "metadata": {},
   "outputs": [],
   "source": [
    "# Seja muito bem vindo, aventureiro(a)!\n",
    "\n",
    " Você acaba de iniciar sua jornada pelo mundo de Pyonia, terra de reis, rainhas, dragões e criaturas mágicas!\n",
    "\n",
    "Aqui em Pyonia as leis da física e a realidade não são lá tão importantes, tudo que importa é quão longe seu código em Python e imaginação podem chegar.\n",
    "\n",
    "\n",
    "Pois bem, aventureiro(a), é chegada a hora de apresentar sua **missão**!\n",
    "\n",
    "Você é um camponês nascido na plebe do reino Sul de Pyonia, toda riqueza que possui são **100 moedas** e **um cristal de rubi** deixados pelo seu falecido pai, mas sua pobre vida pacata toma um novo curso quando o rei promete riquezas com valor incanculável para aquele que derrotar o lendário Dragon Vermelho, Tiamat.\n",
    "\n",
    "### O jogo:\n",
    "\n",
    "No mundo de Pyonia é proibido alterar a célula do dicionário principal, utilize a sintaxe python e os métodos de manipulação de dicionários para adaptar o seu inventário à narrativa da história nas células posteriores.\n",
    "\n",
    "Se você é inesperiente com Python ou com o Jupyter notebook, é aconselhável que você insira seu código entre os comentários **#COMECE SEU CÓDIGO AQUI** e **#TERMINE SEU CÓDIGO AQUI** para uma melhor experiência com esse notebook.\n",
    "\n",
    "De qualquer forma, fique à vontade para abrir novas células e consultar o google, stackoverflow e afins caso não saiba resolver algo. A comunidade é nossa amiga!"
   ]
  },
  {
   "cell_type": "code",
   "execution_count": null,
   "metadata": {},
   "outputs": [],
   "source": [
    "# Rode essa célula para iniciar o Jogo\n",
    "# Se você alterar essa célula Pyonia irá se auto destruir\n",
    "inventory = {'nome':'seu nome aqui',\n",
    "             'moedas':100,\n",
    "             'objetos':['espada de madeira','armadura de pano'],\n",
    "             'bolso' :'',\n",
    "             'mochila': {'tochas':2, 'cristais de rubi':1}}"
   ]
  },
  {
   "cell_type": "code",
   "execution_count": null,
   "metadata": {},
   "outputs": [],
   "source": [
    "## Parte 1"
   ]
  },
  {
   "cell_type": "code",
   "execution_count": null,
   "metadata": {},
   "outputs": [],
   "source": [
    " Já sabemos que você é um(a) aventureiro(a), mas todo aventureiro(a) precisa de um nome.\n",
    "\n",
    "**Tarefa:**\n",
    "\n",
    "Substitua o valor 'seu nome aqui' pelo seu nome, real ou fictício."
   ]
  },
  {
   "cell_type": "code",
   "execution_count": null,
   "metadata": {},
   "outputs": [],
   "source": [
    "#COMECE SEU CÓDIGO AQUI (≅ 1 linha)\n",
    "\n",
    "inventory['nome'] = 'Danilo'  # << Coloque seu nome entre as áspas em forma de string\n",
    "\n",
    "#TERMINE SEU CÓDIGO AQUI\n",
    "\n",
    "inventory"
   ]
  },
  {
   "cell_type": "code",
   "execution_count": null,
   "metadata": {},
   "outputs": [],
   "source": [
    "## Parte 2"
   ]
  },
  {
   "cell_type": "code",
   "execution_count": null,
   "metadata": {},
   "outputs": [],
   "source": [
    "Neste momento você encontra-se determinado para embarcar na sua missão e decide passar no centro da cidade de Pytown para comprar alguns itens que possam lhe ajudar.\n",
    "\n",
    "100 moedas não é lá muito dinheiro em Pyonia, então você decide trabalhar por um dia inteiro para um mercante da cidade de Pytown e ganha 1500 moedas!\n",
    "\n",
    "**Tarefa:**\n",
    "\n",
    "Some 1500 à chave \"moedas\" do seu inventário"
   ]
  },
  {
   "cell_type": "code",
   "execution_count": null,
   "metadata": {},
   "outputs": [],
   "source": [
    "#COMECE SEU CÓDIGO AQUI(≅ 1 linha)\n",
    "\n",
    "inventory['moedas'] += 1500\n",
    "\n",
    "#TERMINE SEU CÓDIGO AQUI\n",
    "\n",
    "inventory"
   ]
  },
  {
   "cell_type": "code",
   "execution_count": null,
   "metadata": {},
   "outputs": [],
   "source": [
    "--------------------------\n",
    "**Resultado esperado**: \n",
    "\n",
    "\n",
    "<table>\n",
    "    <tr> \n",
    "\n",
    " {'nome': 'Seu nome escolhido',            \n",
    " 'moedas': 1600,            \n",
    " 'objetos': ['espada de madeira', 'armadura de pano'],            \n",
    " 'bolso': '',            \n",
    " 'mochila': {'tochas': 2, 'cristais de rubi': 1}} \n",
    "    </tr>\n",
    "</table> \n",
    "\n"
   ]
  },
  {
   "cell_type": "code",
   "execution_count": null,
   "metadata": {},
   "outputs": [],
   "source": [
    "## Parte 3"
   ]
  },
  {
   "cell_type": "code",
   "execution_count": null,
   "metadata": {},
   "outputs": [],
   "source": [
    "Seu amigo de infância, Protagoras, soube que você estava embarcando em uma aventura para matar o lendário Tiamat e lhe deu um escudo de bronze para ajudar-lhe nessa perigosa missão!\n",
    "\n",
    "**Tarefa:**\n",
    "\n",
    "Adicione um escudo de bronze dentro da lista da chave \"objetos\""
   ]
  },
  {
   "cell_type": "code",
   "execution_count": null,
   "metadata": {},
   "outputs": [],
   "source": [
    "#COMECE SEU CÓDIGO AQUI(≅ 1 linha)\n",
    "\n",
    "inventory['objetos'].append('escudo de bronze')\n",
    "\n",
    "#TERMINE SEU CÓDIGO AQUI\n",
    "\n",
    "inventory"
   ]
  },
  {
   "cell_type": "code",
   "execution_count": null,
   "metadata": {},
   "outputs": [],
   "source": [
    "--------------------------\n",
    "**Resultado esperado**: \n",
    "\n",
    "\n",
    "<table>\n",
    "    <tr> \n",
    "\n",
    " {'nome': 'Seu nome escolhido',            \n",
    " 'moedas': 1600,            \n",
    " 'objetos': ['espada de madeira', 'armadura de pano', 'escudo de bronze'],            \n",
    " 'bolso': '',            \n",
    " 'mochila': {'tochas': 2, 'cristais de rubi': 1}} \n",
    "    </tr>\n",
    "</table> \n",
    "\n"
   ]
  },
  {
   "cell_type": "code",
   "execution_count": null,
   "metadata": {},
   "outputs": [],
   "source": [
    "## Parte 4"
   ]
  },
  {
   "cell_type": "code",
   "execution_count": null,
   "metadata": {},
   "outputs": [],
   "source": [
    "O lendário dragão Tiamat não tem cara de muitos amigos e não parece que será derrotado por uma mera espada de madeira. Para juntar mais moedas e comprar uma nova espada, você vendeu seu cristal de rubi por 5000 moedas para um mercante em Pytown.\n",
    "\n",
    "**Tarefa:**\n",
    "\n",
    "1)Subtraia 1 cristal de rubi do seu dicionário \"mochila\" dentro do dicionário \"inventory\".                                       \n",
    "2)Some 5000 moedas à chave \"moedas\" em seu inventário.\n"
   ]
  },
  {
   "cell_type": "code",
   "execution_count": null,
   "metadata": {},
   "outputs": [],
   "source": [
    "#COMECE SEU CÓDIGO AQUI(≅ 2 linhas)\n",
    "\n",
    "inventory['mochila'].update({'cristais de rubi' : 0})\n",
    "inventory['moedas'] += 5000\n",
    "\n",
    "#TERMINE SEU CÓDIGO AQUI\n",
    "\n",
    "inventory"
   ]
  },
  {
   "cell_type": "code",
   "execution_count": null,
   "metadata": {},
   "outputs": [],
   "source": [
    "--------------------------\n",
    "**Resultado esperado**: \n",
    "\n",
    "\n",
    "<table>\n",
    "    <tr> \n",
    "\n",
    " {'nome': 'Seu nome escolhido',            \n",
    " 'moedas': 6600,            \n",
    " 'objetos': ['espada de madeira', 'armadura de pano', 'escudo de bronze'],            \n",
    " 'bolso': '',            \n",
    " 'mochila': {'tochas': 2, 'cristais de rubi': 0}} \n",
    "    </tr>\n",
    "</table> \n",
    "\n"
   ]
  },
  {
   "cell_type": "markdown",
   "metadata": {},
   "source": [
    "## Parte 5"
   ]
  },
  {
   "cell_type": "markdown",
   "metadata": {},
   "source": [
    "WOW! 6600 moedas não está nada mal! São quase 2 dolares na cotação atual de pymoneys (moeda local em Pyonia). Você foi até o ferreiro e trocou sua espada de madeira + 6500 moedas por uma espada de aço.\n",
    "\n",
    "**Tarefa:** \n",
    "\n",
    "1)Subtraia 6500 moedas da chave \"moedas\".                                             \n",
    "2)Troque sua \"espada de madeira\" por uma \"espada de aço\" na lista \"objetos\"."
   ]
  },
  {
   "cell_type": "code",
   "execution_count": null,
   "metadata": {},
   "outputs": [],
   "source": [
    "#COMECE SEU CÓDIGO AQUI (≅ 2 linhas)\n",
    "\n",
    "inventory['moedas'] -= 6500\n",
    "inventory['objetos'].insert(0, 'espada de aço')\n",
    "inventory['objetos'].remove('espada de madeira')\n",
    "\n",
    "#TERMINE SEU CÓDIGO AQUI\n",
    "\n",
    "inventory"
   ]
  },
  {
   "cell_type": "markdown",
   "metadata": {},
   "source": [
    "--------------------------\n",
    "**Resultado esperado**: \n",
    "\n",
    "\n",
    "<table>\n",
    "    <tr> \n",
    "\n",
    " {'nome': 'Seu nome escolhido',            \n",
    " 'moedas': 100,            \n",
    " 'objetos': ['espada de aço', 'armadura de pano', 'escudo de bronze'],            \n",
    " 'bolso': '',            \n",
    " 'mochila': {'tochas': 2, 'cristais de rubi': 0}} \n",
    "    </tr>\n",
    "</table> \n",
    "\n"
   ]
  },
  {
   "cell_type": "markdown",
   "metadata": {},
   "source": [
    "# Parte 6"
   ]
  },
  {
   "cell_type": "markdown",
   "metadata": {},
   "source": [
    "Está na hora, guerreiro(a)! Você saiu pelos portões da cidade de Pytown seguindo para o extremo norte de Pyonia, onde habita o lendário Tiamat e no meio do caminho encontrou uma sacola contendo uma pederneira!\n",
    "\n",
    "**Tarefa:** \n",
    "\n",
    "Adicione um dicionário dentro do item \"bolso\". A chave desse dicionário deve chamar-se \"sacola\" e \"pederneira\" deve ser o valor do item no dicionário.\n"
   ]
  },
  {
   "cell_type": "code",
   "execution_count": null,
   "metadata": {},
   "outputs": [],
   "source": [
    "#COMECE SEU CÓDIGO AQUI (≅ 1 linha)\n",
    "\n",
    "inventory['bolso'] = {'sacola' : 'pederneira'}\n",
    "\n",
    "#TERMINE SEU CÓDIGO AQUI\n",
    "\n",
    "inventory"
   ]
  },
  {
   "cell_type": "markdown",
   "metadata": {},
   "source": [
    "--------------------------\n",
    "**Resultado esperado**: \n",
    "\n",
    "\n",
    "<table>\n",
    "    <tr> \n",
    "\n",
    " {'nome': 'Seu nome escolhido',            \n",
    " 'moedas': 100,            \n",
    " 'objetos': ['espada de aço', 'armadura de pano', 'escudo de bronze'],            \n",
    " 'bolso': {'sacola':'pederneira'},            \n",
    " 'mochila': {'tochas': 2, 'cristais de rubi': 0}} \n",
    "    </tr>\n",
    "</table> \n",
    "\n"
   ]
  },
  {
   "cell_type": "markdown",
   "metadata": {},
   "source": [
    "## Parte 7"
   ]
  },
  {
   "cell_type": "markdown",
   "metadata": {},
   "source": [
    "Após 3 dias de longas caminhadas você chegou ao covil do lendário dragão Tiamat! Mas espere! O que é aquilo no chão? Parabéns, você encontrou 2 cristais de esmeralda!\n",
    "\n",
    "**Tarefa:**\n",
    "\n",
    "Adicione os 2 cristais de esmeralda como um item do dicionário \"mochila\". \"cristais de esmeralda\" será a chave e \"2\" será o valor.\n"
   ]
  },
  {
   "cell_type": "code",
   "execution_count": null,
   "metadata": {},
   "outputs": [],
   "source": [
    "#COMECE SEU CÓDIGO AQUI (≅ 1 linha)\n",
    "\n",
    "inventory['mochila'].update({'cristais de esmeralda' : 2})\n",
    "\n",
    "#TERMINE SEU CÓDIGO AQUI\n",
    "\n",
    "inventory"
   ]
  },
  {
   "cell_type": "markdown",
   "metadata": {},
   "source": [
    "--------------------------\n",
    "**Resultado esperado**: \n",
    "\n",
    "\n",
    "<table>\n",
    "    <tr> \n",
    "\n",
    " {'nome': 'Seu nome escolhido',            \n",
    " 'moedas': 100,            \n",
    " 'objetos': ['espada de aço', 'armadura de pano', 'escudo de bronze'],            \n",
    " 'bolso': {'sacola':'pederneira'},            \n",
    " 'mochila': {'tochas': 2, 'cristais de rubi': 0, 'cristais de esmeralda': 2}} \n",
    "    </tr>\n",
    "</table> "
   ]
  },
  {
   "cell_type": "markdown",
   "metadata": {},
   "source": [
    "## Parte 8"
   ]
  },
  {
   "cell_type": "markdown",
   "metadata": {},
   "source": [
    "O covil de Tiamat parece estar escuro. Utilize uma tocha e sua pederneira para gerar luz\n",
    "\n",
    "**Tarefa:** \n",
    "\n",
    "Troque o valor de suas tochas para 1, utilize o métrodo update() para isso."
   ]
  },
  {
   "cell_type": "code",
   "execution_count": null,
   "metadata": {},
   "outputs": [],
   "source": [
    "#COMECE SEU CÓDIGO AQUI (≅ 1 linha)\n",
    "\n",
    "inventory['mochila'].update({'tochas' : 1})\n",
    "\n",
    "#TERMINE SEU CÓDIGO AQUI\n",
    "\n",
    "inventory"
   ]
  },
  {
   "cell_type": "markdown",
   "metadata": {},
   "source": [
    "--------------------------\n",
    "**Resultado esperado**: \n",
    "\n",
    "\n",
    "<table>\n",
    "    <tr> \n",
    "\n",
    " {'nome': 'Seu nome escolhido',            \n",
    " 'moedas': 100,            \n",
    " 'objetos': ['espada de aço', 'armadura de pano', 'escudo de bronze'],            \n",
    " 'bolso': {'sacola':'pederneira'},            \n",
    " 'mochila': {'tochas': 1, 'cristais de rubi': 0, 'cristais de esmeralda': 2}} \n",
    "    </tr>\n",
    "</table> \n",
    "\n"
   ]
  },
  {
   "cell_type": "markdown",
   "metadata": {},
   "source": [
    "## Parte 9"
   ]
  },
  {
   "cell_type": "markdown",
   "metadata": {},
   "source": [
    "Você caminha por alguns minutos para dentro do covil quando sente uma corrente de ar quente passando por todo seu corpo, é ele! O grande dragão Tiamat! Sua única chance de vencer é tirar o número 10 no dado! (mas quem precisa de um dado quando se está programando em python, não é mesmo?)\n",
    "\n",
    "**Tarefa:**\n",
    "\n",
    "Crie um loop while que utiliza um método randint que gera números aleatórios de 1 a 10 e só para quando o resultado for 10. Printe cada iteração do loop"
   ]
  },
  {
   "cell_type": "code",
   "execution_count": null,
   "metadata": {},
   "outputs": [],
   "source": [
    "import random\n",
    "\n",
    "#COMECE SEU CÓDIGO AQUI (≅ 4 linhas)\n",
    "\n",
    "x = 0\n",
    "while x != 10:\n",
    "    x = random.randrange(1, 11, 1)\n",
    "    print(x)\n",
    "\n",
    "\n",
    "#TERMINE SEU CÓDIGO AQUI"
   ]
  },
  {
   "cell_type": "markdown",
   "metadata": {},
   "source": [
    "--------------------------\n",
    "**Resultado esperado**: (Note que os números podem não ser os mesmos, pois são gerados de forma aleatória)\n",
    "\n",
    "\n",
    "<table>\n",
    "    <tr> \n",
    "\n",
    "9                                                                                                                            \n",
    "1                                                                                                                            \n",
    "2                                                                                                                            \n",
    "7                                                                                                                            \n",
    "3                                                                                                                            \n",
    "5                                                                                                                            \n",
    "5                                                                                                                            \n",
    "8                                                                                                                            \n",
    "4                                                                                                                            \n",
    "1                                                                                                                            \n",
    "10                                                                                                                             \n",
    "    </tr>\n",
    "</table> "
   ]
  },
  {
   "cell_type": "markdown",
   "metadata": {},
   "source": [
    "## Parte 10"
   ]
  },
  {
   "cell_type": "markdown",
   "metadata": {},
   "source": [
    "Yesssss, parece que você venceu! O que é aqui? Parece que Tiamat estava guardando algum tipo de baú do tesouro, ao abrir o baú você se depara com 3 tochas, 3 cristais de rubi e 3 cristais de esmeralda!\n",
    "\n",
    "**Tarefa:**\n",
    "\n",
    "Crie um loop que soma 3 a todos os valores do dicionário \"mochila\"."
   ]
  },
  {
   "cell_type": "code",
   "execution_count": null,
   "metadata": {},
   "outputs": [],
   "source": [
    "#COMECE SEU CÓDIGO AQUI (≅ 2 linhas)\n",
    "\n",
    "for x in inventory['mochila']:\n",
    "    inventory['mochila'][x] += 3\n",
    "    \n",
    "#TERMINE SEU CÓDIGO AQUI\n",
    "\n",
    "inventory"
   ]
  },
  {
   "cell_type": "markdown",
   "metadata": {},
   "source": [
    "--------------------------\n",
    "**Resultado esperado**: \n",
    "\n",
    "\n",
    "<table>\n",
    "    <tr> \n",
    "\n",
    " {'nome': 'Seu nome escolhido',            \n",
    " 'moedas': 100,            \n",
    " 'objetos': ['espada de aço', 'armadura de pano', 'escudo de bronze'],            \n",
    " 'bolso': {'sacola':'pederneira'},            \n",
    " 'mochila': {'tochas': 4, 'cristais de rubi': 3, 'cristais de esmeralda': 5}} \n",
    "    </tr>\n",
    "</table> \n"
   ]
  },
  {
   "cell_type": "markdown",
   "metadata": {},
   "source": [
    "# Parabéns aventureiro(a)!\n",
    "\n",
    "# Você retornou à Pytown e aclamou o seu prêmio por derrotar o dragão, é uma nova era em Pyonia!"
   ]
  },
  {
   "cell_type": "markdown",
   "metadata": {},
   "source": [
    "<img src = \"imgs/maxresdefault.jpg\"/>"
   ]
  },
  {
   "cell_type": "markdown",
   "metadata": {},
   "source": [
    "---------------------------------------------------------\n",
    "\n",
    "# Material adicional\n",
    "\n",
    "Este é um material experimental, caso contenha algum bug ou sugestão de melhoria seria muito bem vindo o feedback :)"
   ]
  },
  {
   "cell_type": "markdown",
   "metadata": {},
   "source": [
    "# POKEMON QUEST\n",
    "\n",
    "Utilizamos um dataset já existente sobre pokemons e seus sprites para realizar construir estes exercícios. Você pode conferi-lo <a href=\"https://github.com/fanzeyi/pokemon.json\"> aqui </a>"
   ]
  },
  {
   "cell_type": "markdown",
   "metadata": {},
   "source": [
    "Parabéns por chegar até aqui, e muito obrigado por estar lendo este notebook, já que não é um exercício obrigatório\n",
    "\n",
    "Abaixo, você importará os arquivos do dataset pokemon necessário para que você realize os exercícios!\n",
    " \n"
   ]
  },
  {
   "cell_type": "markdown",
   "metadata": {},
   "source": [
    "<img src = \"imgs/deviantart-sa-duiartPokemon-ORAS-Welcome-back-492350702.jpg\"/>"
   ]
  },
  {
   "cell_type": "code",
   "execution_count": 1,
   "metadata": {},
   "outputs": [
    {
     "name": "stdout",
     "output_type": "stream",
     "text": [
      "Requirement already satisfied: Pillow in /home/danilo/anaconda3/lib/python3.8/site-packages (8.0.1)\n"
     ]
    }
   ],
   "source": [
    "## Caso essa seja a primeira vez que você esteja executando este notebook, descomente o código abaixo e o execute\n",
    "## Esse código irá instalar alguns pacotes necessários para que os exercícios possam ser executados\n",
    "\n",
    "!pip install Pillow\n",
    "#!pip install json\n",
    "#!pip install random\n",
    "import random\n",
    "import json"
   ]
  },
  {
   "cell_type": "code",
   "execution_count": 2,
   "metadata": {},
   "outputs": [],
   "source": [
    "# Essa função irá mostrar na tela o pokemon que você indicar por meio do parâmetro \"id_pokemon\"\n",
    "def devolver_imagem(id_pokemon):\n",
    "    \n",
    "    string_png = \"sprites/{:03d}MS.png\".format(id_pokemon)\n",
    "    print(dataset[index][\"name\"])\n",
    "\n",
    "    return carregar_imagem(string_png)"
   ]
  },
  {
   "cell_type": "code",
   "execution_count": 3,
   "metadata": {},
   "outputs": [],
   "source": [
    "def carregar_imagem(source):\n",
    "    im = Image.open(source)\n",
    "    \n",
    "    return im"
   ]
  },
  {
   "cell_type": "code",
   "execution_count": 4,
   "metadata": {},
   "outputs": [],
   "source": [
    "#Importando os dados\n",
    "import json\n",
    "from PIL import Image\n",
    "with open(\"pokedex.json\", encoding=\"utf-8\") as dataset:\n",
    "    dataset = json.load(dataset)"
   ]
  },
  {
   "cell_type": "code",
   "execution_count": 5,
   "metadata": {},
   "outputs": [
    {
     "name": "stdout",
     "output_type": "stream",
     "text": [
      "o tipo deste dataset é: <class 'list'>\n",
      "o tipo do primeiro item dentro desta lista é: <class 'dict'>\n",
      "este é o primeiro item da lista:\n"
     ]
    },
    {
     "data": {
      "text/plain": [
       "{'id': 1,\n",
       " 'name': {'english': 'Bulbasaur',\n",
       "  'japanese': 'フシギダネ',\n",
       "  'chinese': '妙蛙种子',\n",
       "  'french': 'Bulbizarre'},\n",
       " 'type': ['Grass', 'Poison'],\n",
       " 'base': {'HP': 45,\n",
       "  'Attack': 49,\n",
       "  'Defense': 49,\n",
       "  'Sp. Attack': 65,\n",
       "  'Sp. Defense': 65,\n",
       "  'Speed': 45}}"
      ]
     },
     "execution_count": 5,
     "metadata": {},
     "output_type": "execute_result"
    }
   ],
   "source": [
    "#Conhecendo os Dados\n",
    "print(\"o tipo deste dataset é: \" + str(type(dataset)))\n",
    "print(\"o tipo do primeiro item dentro desta lista é: \" + str(type(dataset[0])))\n",
    "\n",
    "print(\"este é o primeiro item da lista:\")\n",
    "\n",
    "dataset[0]"
   ]
  },
  {
   "cell_type": "markdown",
   "metadata": {},
   "source": [
    "Agora que você já importou os arquivos necessários, leia as perguntas abaixo atentamente, e utilize dos conhecimentos aprendidos anteriormente para responder essas perguntas"
   ]
  },
  {
   "cell_type": "markdown",
   "metadata": {},
   "source": [
    "# Pergunta Nº 1\n",
    "\n",
    "#### Qual seu pokémon favorito?\n",
    "\n",
    "Dentro da lista <b>dataset</b>, encontre seu pokémon favorito e printe o dicionário correspondente às informações dele\n",
    "\n",
    "Caso você não tenha um pokemon favorito, utilize o método randInt para criar um número aleatório e imprimir as informações de um pokemon aleatorio"
   ]
  },
  {
   "cell_type": "code",
   "execution_count": 50,
   "metadata": {},
   "outputs": [
    {
     "name": "stdout",
     "output_type": "stream",
     "text": [
      "{'english': 'Swinub', 'japanese': 'ウリムー', 'chinese': '小山猪', 'french': 'Marcacrin'}\n"
     ]
    },
    {
     "data": {
      "image/png": "[encoded data removed]",
      "text/plain": [
       "<PIL.PngImagePlugin.PngImageFile image mode=P size=40x40 at 0x7F78507CC0D0>"
      ]
     },
     "execution_count": 50,
     "metadata": {},
     "output_type": "execute_result"
    }
   ],
   "source": [
    "#Quero um pokemon aleatório!\n",
    "\n",
    "import random\n",
    "# Escreva seu código abaixo\n",
    "\n",
    "index = random.randint(1, 809)\n",
    "\n",
    "\n",
    "# Escreva seu código acima\n",
    "\n",
    "devolver_imagem(dataset[index][\"id\"])"
   ]
  },
  {
   "cell_type": "code",
   "execution_count": 14,
   "metadata": {},
   "outputs": [
    {
     "name": "stdout",
     "output_type": "stream",
     "text": [
      "{'english': 'Unown', 'japanese': 'アンノーン', 'chinese': '未知图腾', 'french': 'Zarbi'}\n"
     ]
    },
    {
     "data": {
      "image/png": "[encoded data removed]",
      "text/plain": [
       "<PIL.PngImagePlugin.PngImageFile image mode=P size=40x40 at 0x7F7850804DC0>"
      ]
     },
     "execution_count": 14,
     "metadata": {},
     "output_type": "execute_result"
    }
   ],
   "source": [
    "#Quero escolher meu pokemon!\n",
    "# Escreva seu código abaixo\n",
    "\n",
    "index = 200\n",
    "# Escreva seu código acima\n",
    "\n",
    "devolver_imagem(dataset[index][\"id\"])"
   ]
  },
  {
   "cell_type": "code",
   "execution_count": 49,
   "metadata": {},
   "outputs": [
    {
     "name": "stdout",
     "output_type": "stream",
     "text": [
      "{'english': 'Blissey', 'japanese': 'ハピナス', 'chinese': '幸福蛋', 'french': 'Leuphorie'}\n"
     ]
    },
    {
     "data": {
      "image/png": "[encoded data removed]",
      "text/plain": [
       "<PIL.PngImagePlugin.PngImageFile image mode=P size=40x40 at 0x7F785876BB80>"
      ]
     },
     "execution_count": 49,
     "metadata": {},
     "output_type": "execute_result"
    }
   ],
   "source": [
    "devolver_imagem(dataset[index][\"id\"])"
   ]
  },
  {
   "cell_type": "markdown",
   "metadata": {},
   "source": [
    "# Pergunta Nº 2\n",
    "\n",
    "#### Qual o pokémon com a maior HP base?\n",
    "\n",
    "Dentro das chaves do dicionário, você encontrará a chave <b>base</b>.\n",
    "Essa chave contém as características do pokémon, como vida, velocidade, força, etc.\n",
    "\n",
    "Utilizando um loop, função, ou outro método, descubra qual o pokémon com maior HP base (vida)"
   ]
  },
  {
   "cell_type": "code",
   "execution_count": 14,
   "metadata": {},
   "outputs": [],
   "source": [
    "# Escreva seu código abaixo\n",
    "\n",
    "maxHP = 0\n",
    "HP = []\n",
    "def maxHP():\n",
    "    \n",
    "    for v in dataset:\n",
    "        HP.append(v['base']['HP'])\n",
    "    \n",
    "    maxHP = max(HP)\n",
    "    for x in dataset:\n",
    "        if x['base']['HP'] == maxHP:\n",
    "            return (x['id']-1)\n",
    "        else:\n",
    "            continue \n",
    "            \n",
    "# Escreva seu código acima"
   ]
  },
  {
   "cell_type": "code",
   "execution_count": 15,
   "metadata": {},
   "outputs": [
    {
     "name": "stdout",
     "output_type": "stream",
     "text": [
      "Abaixo o pokémom com o maior HP, (HP=255)\n",
      "{'english': 'Blissey', 'japanese': 'ハピナス', 'chinese': '幸福蛋', 'french': 'Leuphorie'}\n"
     ]
    },
    {
     "data": {
      "image/png": "[encoded data removed]",
      "text/plain": [
       "<PIL.PngImagePlugin.PngImageFile image mode=P size=40x40 at 0x7FB9D59B9340>"
      ]
     },
     "execution_count": 15,
     "metadata": {},
     "output_type": "execute_result"
    }
   ],
   "source": [
    "index = maxHP()\n",
    "max_HP = dataset[index]['base']['HP']\n",
    "name = dataset[index]['name']\n",
    "print(f'Abaixo o pokémom com o maior HP, (HP={max_HP})')\n",
    "devolver_imagem(dataset[index][\"id\"])"
   ]
  },
  {
   "cell_type": "markdown",
   "metadata": {},
   "source": [
    "# Pergunta Nº 3\n",
    "\n",
    "#### Há quantos pokémons do tipo \"Grass\" dentro do dicionário?\n",
    "\n",
    "Dentro de cada item da lista, você encontrará a chave <b>Type</b>, que corresponde ao tipo do pokémon. \n",
    "\n",
    "Realize uma contagem de todos os pokémons do tipo Grama (<I>Grass</I>)"
   ]
  },
  {
   "cell_type": "code",
   "execution_count": 48,
   "metadata": {},
   "outputs": [
    {
     "name": "stdout",
     "output_type": "stream",
     "text": [
      "A sua contagem do total de pokémons de grama foi: 97\n"
     ]
    }
   ],
   "source": [
    "# Escreva seu código abaixo\n",
    "\n",
    "contagem_grama = 0   \n",
    "\n",
    "for k, v in enumerate(dataset):\n",
    "    if 'Grass' in v['type']:\n",
    "        contagem_grama += 1\n",
    "\n",
    "\n",
    "# Escreva seu código acima\n",
    "\n",
    "print(\"A sua contagem do total de pokémons de grama foi: \" + str(contagem_grama))"
   ]
  }
 ],
 "metadata": {
  "kernelspec": {
   "display_name": "Python 3",
   "language": "python",
   "name": "python3"
  },
  "language_info": {
   "codemirror_mode": {
    "name": "ipython",
    "version": 3
   },
   "file_extension": ".py",
   "mimetype": "text/x-python",
   "name": "python",
   "nbconvert_exporter": "python",
   "pygments_lexer": "ipython3",
   "version": "3.8.5"
  }
 },
 "nbformat": 4,
 "nbformat_minor": 4
}
