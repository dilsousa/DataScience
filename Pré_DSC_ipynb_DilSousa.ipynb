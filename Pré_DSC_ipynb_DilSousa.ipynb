{
  "nbformat": 4,
  "nbformat_minor": 0,
  "metadata": {
    "colab": {
      "name": "Pré-DSC.ipynb - DilSousa",
      "provenance": [],
      "collapsed_sections": [],
      "include_colab_link": true
    },
    "kernelspec": {
      "name": "python3",
      "display_name": "Python 3"
    },
    "language_info": {
      "name": "python"
    }
  },
  "cells": [
    {
      "cell_type": "markdown",
      "metadata": {
        "id": "view-in-github",
        "colab_type": "text"
      },
      "source": [
        "<a href=\"https://colab.research.google.com/github/dilsousa/DataScience/blob/main/Pr%C3%A9_DSC_ipynb_DilSousa.ipynb\" target=\"_parent\"><img src=\"https://colab.research.google.com/assets/colab-badge.svg\" alt=\"Open In Colab\"/></a>"
      ]
    },
    {
      "cell_type": "markdown",
      "metadata": {
        "id": "IOcNyA9zDLHA"
      },
      "source": [
        "# Desafio Mini-curso Python\n",
        "\n",
        "Olá! Que bom que você veio!<br>\n",
        "**INSTRUÇÕES**"
      ]
    },
    {
      "cell_type": "markdown",
      "metadata": {
        "id": "dLD5TIJ__Yk7"
      },
      "source": [
        "\n",
        "### 1) Considere que a aresta deste cubo tem 8cm. Calcule o volume total dessa peça. Guarde o resultado na variável `cubo`.\n",
        "\n",
        "![image](https://upload.wikimedia.org/wikipedia/commons/thumb/7/78/Hexahedron.jpg/280px-Hexahedron.jpg)\n",
        "\n",
        "\n",
        "Dica: Volume de um cubo é sua aresta elevada a terceira potência."
      ]
    },
    {
      "cell_type": "code",
      "metadata": {
        "id": "81gUfCDu7Dyi"
      },
      "source": [
        "#Coloque sua resposta aqui\n",
        "aresta = 8"
      ],
      "execution_count": null,
      "outputs": []
    },
    {
      "cell_type": "code",
      "metadata": {
        "id": "UKL0Inw1tAp6"
      },
      "source": [
        "cubo = aresta**3"
      ],
      "execution_count": null,
      "outputs": []
    },
    {
      "cell_type": "code",
      "metadata": {
        "id": "FyuFjeBj7FWt",
        "colab": {
          "base_uri": "https://localhost:8080/"
        },
        "outputId": "5b02817b-8ae6-43ae-86cd-4a8deede1c19"
      },
      "source": [
        "print(cubo)"
      ],
      "execution_count": null,
      "outputs": [
        {
          "output_type": "stream",
          "text": [
            "512\n"
          ],
          "name": "stdout"
        }
      ]
    },
    {
      "cell_type": "markdown",
      "metadata": {
        "id": "7O42PL9xBiol"
      },
      "source": [
        "## Números primos\n",
        "Os Números Primos são números naturais maiores do que 1 que possuem somente dois divisores, ou seja, são divisíveis por 1 e por ele mesmo.\n",
        "\n",
        "**Rode a célula contento a lista de `numeros_primos` antes de continuar**\n",
        "\n",
        "### Faça os exercícios de **2** a **5** seguintes operações com a lista `numeros_primos`"
      ]
    },
    {
      "cell_type": "code",
      "metadata": {
        "id": "UOGds40b7LOV"
      },
      "source": [
        "#Rode essa célula\n",
        "numeros_primos = [2, 3, 5, 7, 11, 13, 17, 19, 23, 29, 31, 37, 41, 43, 47, 53, 59, 61, 67, 71, 73, 79, 83, 89, 97, 101, 103, 107, 109, 113, 127, 131, 137, 139, 149, 151, 157, 163, 167, 173, 179, 181, 191, 193, 197, 199, 211, 223, 227, 229, 233, 239, 241, 251, 257, 263, 269, 271, 277, 281, 283, 293, 307, 311, 313, 317, 331, 337, 347, 349, 353, 359, 367, 373, 379, 383, 389, 397, 401, 409, 419, 421, 431, 433, 439, 443, 449, 457, 461, 463, 467, 479, 487, 491, 499, 503, 509, 521, 523, 541, 547, 557, 563, 569, 571, 577, 587, 593, 599, 601, 607, 613, 617, 619, 631, 641, 643, 647, 653, 659, 661, 673, 677, 683, 691, 701, 709, 719, 727, 733, 739, 743, 751, 757, 761, 769, 773, 787, 797, 809, 811, 821, 823, 827, 829, 839, 853, 857, 859, 863, 877, 881, 883, 887, 907, 911, 919, 929, 937, 941, 947, 953, 967, 971, 977, 983, 991, 997]"
      ],
      "execution_count": null,
      "outputs": []
    },
    {
      "cell_type": "markdown",
      "metadata": {
        "id": "xBl_sfdNhwrZ"
      },
      "source": [
        "### 2) Guarde na variável `quinto_elemento` o quinto elemento da lista `numeros_primos`"
      ]
    },
    {
      "cell_type": "code",
      "metadata": {
        "id": "MMLCzGEwCdhG"
      },
      "source": [
        "#Coloque sua resposta aqui\n",
        "quinto_elemento = numeros_primos[4]"
      ],
      "execution_count": null,
      "outputs": []
    },
    {
      "cell_type": "code",
      "metadata": {
        "id": "5TtZ9gDoFiJA",
        "colab": {
          "base_uri": "https://localhost:8080/"
        },
        "outputId": "0948d6b5-fd6a-4674-af70-6c2b6f2bf12e"
      },
      "source": [
        "print(quinto_elemento)"
      ],
      "execution_count": null,
      "outputs": [
        {
          "output_type": "stream",
          "text": [
            "11\n"
          ],
          "name": "stdout"
        }
      ]
    },
    {
      "cell_type": "markdown",
      "metadata": {
        "id": "burC7-LpiBgV"
      },
      "source": [
        "### 3) Guarde na variável `10_primos` uma lista com os 10 primeiros numeros primos da lista `numeros_primos`"
      ]
    },
    {
      "cell_type": "code",
      "metadata": {
        "id": "OSuC_9MviGk9"
      },
      "source": [
        "#Coloque sua resposta aqui"
      ],
      "execution_count": null,
      "outputs": []
    },
    {
      "cell_type": "code",
      "metadata": {
        "id": "XGdMxiVCueWL"
      },
      "source": [
        "dez_primos = numeros_primos[:10]"
      ],
      "execution_count": null,
      "outputs": []
    },
    {
      "cell_type": "code",
      "metadata": {
        "colab": {
          "base_uri": "https://localhost:8080/"
        },
        "id": "c9Aleq5j79i1",
        "outputId": "11ea34d1-3db5-4578-c2bd-e615acc951ee"
      },
      "source": [
        "print(dez_primos)"
      ],
      "execution_count": null,
      "outputs": [
        {
          "output_type": "stream",
          "text": [
            "[2, 3, 5, 7, 11, 13, 17, 19, 23, 29]\n"
          ],
          "name": "stdout"
        }
      ]
    },
    {
      "cell_type": "markdown",
      "metadata": {
        "id": "aaGOemOliHmP"
      },
      "source": [
        "### 4) Guarde na variável `soma_primos` a soma total da lista `numeros_primos`"
      ]
    },
    {
      "cell_type": "code",
      "metadata": {
        "id": "RuoDemLQiUBF"
      },
      "source": [
        "#Coloque sua resposta aqui\n",
        "soma_primos = sum(numeros_primos)"
      ],
      "execution_count": null,
      "outputs": []
    },
    {
      "cell_type": "code",
      "metadata": {
        "id": "HpIslXZIiT3m",
        "colab": {
          "base_uri": "https://localhost:8080/"
        },
        "outputId": "5d17f74d-b391-4a48-a1a8-55c286c84a0b"
      },
      "source": [
        "print(soma_primos)"
      ],
      "execution_count": null,
      "outputs": [
        {
          "output_type": "stream",
          "text": [
            "76127\n"
          ],
          "name": "stdout"
        }
      ]
    },
    {
      "cell_type": "markdown",
      "metadata": {
        "id": "ydb57E7kiU7d"
      },
      "source": [
        "### 5) Guarde na variável `primos_dobro` uma nova lista que seja a lista `numeros_primos` com seus elementos multiplicados por 2 (Dica: utilize `list comprehension`)"
      ]
    },
    {
      "cell_type": "code",
      "metadata": {
        "id": "yrVh_lSDidlX"
      },
      "source": [
        "#Coloque sua resposta aqui\n",
        "primos_dobro = [x*2 for x in numeros_primos]"
      ],
      "execution_count": null,
      "outputs": []
    },
    {
      "cell_type": "code",
      "metadata": {
        "id": "QH8YXh1kidfT",
        "colab": {
          "base_uri": "https://localhost:8080/"
        },
        "outputId": "9bac8ced-d759-491a-9b0f-764e01d0a90e"
      },
      "source": [
        "print(primos_dobro)"
      ],
      "execution_count": null,
      "outputs": [
        {
          "output_type": "stream",
          "text": [
            "[4, 6, 10, 14, 22, 26, 34, 38, 46, 58, 62, 74, 82, 86, 94, 106, 118, 122, 134, 142, 146, 158, 166, 178, 194, 202, 206, 214, 218, 226, 254, 262, 274, 278, 298, 302, 314, 326, 334, 346, 358, 362, 382, 386, 394, 398, 422, 446, 454, 458, 466, 478, 482, 502, 514, 526, 538, 542, 554, 562, 566, 586, 614, 622, 626, 634, 662, 674, 694, 698, 706, 718, 734, 746, 758, 766, 778, 794, 802, 818, 838, 842, 862, 866, 878, 886, 898, 914, 922, 926, 934, 958, 974, 982, 998, 1006, 1018, 1042, 1046, 1082, 1094, 1114, 1126, 1138, 1142, 1154, 1174, 1186, 1198, 1202, 1214, 1226, 1234, 1238, 1262, 1282, 1286, 1294, 1306, 1318, 1322, 1346, 1354, 1366, 1382, 1402, 1418, 1438, 1454, 1466, 1478, 1486, 1502, 1514, 1522, 1538, 1546, 1574, 1594, 1618, 1622, 1642, 1646, 1654, 1658, 1678, 1706, 1714, 1718, 1726, 1754, 1762, 1766, 1774, 1814, 1822, 1838, 1858, 1874, 1882, 1894, 1906, 1934, 1942, 1954, 1966, 1982, 1994]\n"
          ],
          "name": "stdout"
        }
      ]
    },
    {
      "cell_type": "markdown",
      "metadata": {
        "id": "FE5nHllAGpH-"
      },
      "source": [
        "### Dicionários\n",
        "\n",
        "A **Escala de Scoville** é usda para medir o grau de ardência das pimentas. Preparamos um dicionário com o nome da pimenta e sua respectiva ardência em unidades Scoville.\n",
        "\n",
        "**Rode a célula contento o dicionário de `pimentas` antes de continuar**\n",
        "\n",
        "### Faça os exercícios de **6** e **7** seguintes operações com o dicionário `pimentas`"
      ]
    },
    {
      "cell_type": "code",
      "metadata": {
        "id": "MkLSgv9bG-0z"
      },
      "source": [
        "#Rode essa célula\n",
        "pimentas = {\n",
        "    'Pimentão': 0,\n",
        "    'Pepperoncini': 300,\n",
        "    'Molho Tabasco Jalapenho': 700,\n",
        "    'Pimenta Anaheim': 750\t,\n",
        "    'Pimenta Poblano': 1250,\n",
        "    'Pimenta Rocotillo': 2000,\n",
        "    'Molho Tabasco': 3750,\n",
        "    'Pimenta Jalapeño': 5250,\n",
        "    'Wax Pepper': 7500,\n",
        "    'Molho Tabasco Habanero': 7500,\n",
        "    'Pimenta Dedo de Moça': 10000,\n",
        "    'Pimenta Serrano': 16500,\n",
        "    'Pimenta Malagueta': 75000,\n",
        "    'Jamaican Hot Pepper': 150000,\n",
        "    'Habanero Chili': 225000,\n",
        "    'Pimenta de Chili Scotch Bonnet': 225000,\n",
        "    'Habanero Chili Red Savina': 463500,\n",
        "    'Dorset Naga': 923000,\n",
        "    'Pimenta Naga Bhut Jolokia': 927500,\n",
        "    'Pimenta Infinity Chilli': 1000000,\n",
        "    'Pimenta Naga Viper': 1300000,\n",
        "    'Pimenta Trinidad Scorpion Butch T': 1604615,\n",
        "    'Vicnic-1313': 1820000,\n",
        "    'Carolina Reaper': 1884650\n",
        "}"
      ],
      "execution_count": null,
      "outputs": []
    },
    {
      "cell_type": "markdown",
      "metadata": {
        "id": "oqRxRy-yiqGD"
      },
      "source": [
        "### 6) Guarde na variável `quente` o valor de ardência da pimenta `Carolina Reaper`"
      ]
    },
    {
      "cell_type": "code",
      "metadata": {
        "id": "9nmomkoOJ8WA"
      },
      "source": [
        "#Coloque sua resposta aqui\n",
        "quente = pimentas['Carolina Reaper']"
      ],
      "execution_count": null,
      "outputs": []
    },
    {
      "cell_type": "code",
      "metadata": {
        "id": "ScBaySNiMQCu",
        "colab": {
          "base_uri": "https://localhost:8080/"
        },
        "outputId": "9e653273-f9a8-4717-ef00-b40f782a70dd"
      },
      "source": [
        "print(quente)"
      ],
      "execution_count": null,
      "outputs": [
        {
          "output_type": "stream",
          "text": [
            "1884650\n"
          ],
          "name": "stdout"
        }
      ]
    },
    {
      "cell_type": "markdown",
      "metadata": {
        "id": "JNVzzAHnjHIN"
      },
      "source": [
        "### 7) Insira no dicionário `pimentas` este novo par: `'Pimenta Caiena': 40000`"
      ]
    },
    {
      "cell_type": "code",
      "metadata": {
        "id": "dWWsu4_bziL8"
      },
      "source": [
        "pimentas\n",
        "pimentas['Pimenta Caiena']: 40000"
      ],
      "execution_count": null,
      "outputs": []
    },
    {
      "cell_type": "code",
      "metadata": {
        "id": "_ZCelvMMzwD-"
      },
      "source": [
        "pimentas.update({'Pimenta Caiena': 40000})"
      ],
      "execution_count": null,
      "outputs": []
    },
    {
      "cell_type": "code",
      "metadata": {
        "colab": {
          "base_uri": "https://localhost:8080/"
        },
        "id": "wT0BbMTs1uAe",
        "outputId": "90003b07-1968-41e5-ef63-60bd7c1d7437"
      },
      "source": [
        "pimentas"
      ],
      "execution_count": null,
      "outputs": [
        {
          "output_type": "execute_result",
          "data": {
            "text/plain": [
              "{'Carolina Reaper': 1884650,\n",
              " 'Dorset Naga': 923000,\n",
              " 'Habanero Chili': 225000,\n",
              " 'Habanero Chili Red Savina': 463500,\n",
              " 'Jamaican Hot Pepper': 150000,\n",
              " 'Molho Tabasco': 3750,\n",
              " 'Molho Tabasco Habanero': 7500,\n",
              " 'Molho Tabasco Jalapenho': 700,\n",
              " 'Pepperoncini': 300,\n",
              " 'Pimenta Anaheim': 750,\n",
              " 'Pimenta Caiena': 40000,\n",
              " 'Pimenta Dedo de Moça': 10000,\n",
              " 'Pimenta Infinity Chilli': 1000000,\n",
              " 'Pimenta Jalapeño': 5250,\n",
              " 'Pimenta Malagueta': 75000,\n",
              " 'Pimenta Naga Bhut Jolokia': 927500,\n",
              " 'Pimenta Naga Viper': 1300000,\n",
              " 'Pimenta Poblano': 1250,\n",
              " 'Pimenta Rocotillo': 2000,\n",
              " 'Pimenta Serrano': 16500,\n",
              " 'Pimenta Trinidad Scorpion Butch T': 1604615,\n",
              " 'Pimenta de Chili Scotch Bonnet': 225000,\n",
              " 'Pimentão': 0,\n",
              " 'Vicnic-1313': 1820000,\n",
              " 'Wax Pepper': 7500}"
            ]
          },
          "metadata": {
            "tags": []
          },
          "execution_count": 46
        }
      ]
    },
    {
      "cell_type": "markdown",
      "metadata": {
        "id": "99zhKnbMMQam"
      },
      "source": [
        "## Funções e condicionais\n",
        "\n",
        "O **IMC** (Indice de Massa Corporal) é um critério da Organização Mundial de Saúde para dar uma indicação sobre a condição de peso de uma pessoa adulta. A fórmula é IMC = peso / ( altura )²\n",
        "\n",
        "### 8) Construa uma função de nome `calcular_imc` que receba o peso e a altura de um adulto e mostre sua condição de acordo com a tabela abaixo.\n",
        "\n",
        "| IMC em adultos  | Condição       |\n",
        "|-----------------|----------------|\n",
        "| Abaixo de 18,5  | Abaixo do peso |\n",
        "| Entre 18,5 e 25 | Peso normal    |\n",
        "| Entre 25 e 30   | Acima do peso  |\n",
        "| Acima de 30     | obeso          |"
      ]
    },
    {
      "cell_type": "code",
      "metadata": {
        "id": "68YWNIS9jdue"
      },
      "source": [
        "#Coloque sua resposta aqui\n",
        "def calcular_imc(altura, peso):\n",
        "  if (peso / (altura**2)) < 18.5:\n",
        "    return print('Abaixo do peso')\n",
        "  elif 18.5 <= (peso / (altura**2)) < 25:\n",
        "    return print('Peso Normal')\n",
        "  elif 25 <= (peso / (altura**2)) < 30:\n",
        "    return print('Acima do peso')\n",
        "  else:\n",
        "    print('Obeso') "
      ],
      "execution_count": null,
      "outputs": []
    },
    {
      "cell_type": "code",
      "metadata": {
        "id": "dXk93hfwjdoZ"
      },
      "source": [
        ""
      ],
      "execution_count": null,
      "outputs": []
    },
    {
      "cell_type": "markdown",
      "metadata": {
        "id": "UOg-3G-LNrnL"
      },
      "source": [
        "## Com base na sua função faça os seguintes exercícios:\n",
        "### 9) Guarde na variável `cond1` o IMC de uma pessoa que tenha 1,72 de altura e 80Kg de peso\n"
      ]
    },
    {
      "cell_type": "code",
      "metadata": {
        "id": "yeJ2_aTQOjYg",
        "colab": {
          "base_uri": "https://localhost:8080/"
        },
        "outputId": "e6d11bf2-dfa2-4253-e88f-3d5592ce111b"
      },
      "source": [
        "#Coloque sua resposta aqui\n",
        "cond1 = calcular_imc(1.72,80)"
      ],
      "execution_count": null,
      "outputs": [
        {
          "output_type": "stream",
          "text": [
            "Acima do peso\n"
          ],
          "name": "stdout"
        }
      ]
    },
    {
      "cell_type": "code",
      "metadata": {
        "id": "Pl4Hg7ujO7NN"
      },
      "source": [
        ""
      ],
      "execution_count": null,
      "outputs": []
    },
    {
      "cell_type": "markdown",
      "metadata": {
        "id": "Cfhepz8-joC9"
      },
      "source": [
        "### 10) Guarde na variável `cond2` o IMC de uma pessoa que tenha 2,1 de altura e 70Kg de peso\n"
      ]
    },
    {
      "cell_type": "code",
      "metadata": {
        "id": "peYbd5wTjsxm",
        "colab": {
          "base_uri": "https://localhost:8080/"
        },
        "outputId": "e8581313-5838-42e4-8c16-d8d47e6ab338"
      },
      "source": [
        "#Coloque sua resposta aqui\n",
        "cond2 = calcular_imc(2.1,70)"
      ],
      "execution_count": null,
      "outputs": [
        {
          "output_type": "stream",
          "text": [
            "Abaixo do peso\n"
          ],
          "name": "stdout"
        }
      ]
    },
    {
      "cell_type": "code",
      "metadata": {
        "id": "fahrcDjTjsqw"
      },
      "source": [
        ""
      ],
      "execution_count": null,
      "outputs": []
    },
    {
      "cell_type": "markdown",
      "metadata": {
        "id": "6Si1vAiMjtQA"
      },
      "source": [
        "### 11) Guarde na variável `cond3` o IMC de uma pessoa que tenha 1,55 de altura e 80Kg de peso"
      ]
    },
    {
      "cell_type": "code",
      "metadata": {
        "id": "8FsO1eWCjwFk",
        "colab": {
          "base_uri": "https://localhost:8080/"
        },
        "outputId": "168a9dce-c4dd-4c4b-96fd-585686c212d6"
      },
      "source": [
        "#Coloque sua resposta aqui\n",
        "cond3 = calcular_imc(1.55,80)"
      ],
      "execution_count": null,
      "outputs": [
        {
          "output_type": "stream",
          "text": [
            "Obeso\n"
          ],
          "name": "stdout"
        }
      ]
    },
    {
      "cell_type": "code",
      "metadata": {
        "id": "4DOsi3gtjv-v"
      },
      "source": [
        ""
      ],
      "execution_count": null,
      "outputs": []
    },
    {
      "cell_type": "markdown",
      "metadata": {
        "id": "EyNPc1qmRE6G"
      },
      "source": [
        "### Pandas\n",
        "#### Faça o download do `.csv` abaixo e faça a leitura dele no `pandas` guarde-a na variável `gorjetas`\n",
        "\n",
        "[Arquivo para download](https://drive.google.com/file/d/18f43p3FPmzRqN-I5S03U5pn6wdburrZQ/view?usp=sharing)\n",
        "\n",
        "Dica: Não se esqueça de importar a biblioteca pandas"
      ]
    },
    {
      "cell_type": "code",
      "metadata": {
        "id": "kKPSHM1M5NWQ"
      },
      "source": [
        "import pandas as pd\n",
        "df = pd.read_csv('/content/sample_data/gorjeta.csv')"
      ],
      "execution_count": null,
      "outputs": []
    },
    {
      "cell_type": "markdown",
      "metadata": {
        "id": "joE44hAnR-ij"
      },
      "source": [
        "### Faça os exercícios de **12** a **14** com o DataDrame `gorjetas`\n",
        "\n",
        "### 12) Guarde na variável `media_contas` o valor da média da colula **total**"
      ]
    },
    {
      "cell_type": "code",
      "metadata": {
        "id": "GDX38jIGSQAi"
      },
      "source": [
        "#Coloque sua resposta aqui\n",
        "media_contas = df['total'].mean()"
      ],
      "execution_count": null,
      "outputs": []
    },
    {
      "cell_type": "code",
      "metadata": {
        "id": "P-RPwBIIS7BA",
        "colab": {
          "base_uri": "https://localhost:8080/"
        },
        "outputId": "bb5a05d7-4db1-4d6b-ff96-79b238c6efa4"
      },
      "source": [
        "print(media_contas)"
      ],
      "execution_count": null,
      "outputs": [
        {
          "output_type": "stream",
          "text": [
            "19.785942622950824\n"
          ],
          "name": "stdout"
        }
      ]
    },
    {
      "cell_type": "markdown",
      "metadata": {
        "id": "ZNW4kN0WkLSh"
      },
      "source": [
        "### 13) Guarde na variável `max_tamanho` o maior valor da colula **tamanho**\n"
      ]
    },
    {
      "cell_type": "code",
      "metadata": {
        "id": "NiqWBqLKkOZ-"
      },
      "source": [
        "#Coloque sua resposta aqui\n",
        "max_tamanho = df['tamanho'].max()"
      ],
      "execution_count": null,
      "outputs": []
    },
    {
      "cell_type": "code",
      "metadata": {
        "id": "Xhf-TSjQkOIR",
        "colab": {
          "base_uri": "https://localhost:8080/"
        },
        "outputId": "22624da7-5535-4cc4-df16-2498fb8ec6a9"
      },
      "source": [
        "print(max_tamanho)"
      ],
      "execution_count": null,
      "outputs": [
        {
          "output_type": "stream",
          "text": [
            "6\n"
          ],
          "name": "stdout"
        }
      ]
    },
    {
      "cell_type": "markdown",
      "metadata": {
        "id": "3-igfg6mkO4z"
      },
      "source": [
        "### 14) Guarde na variável `min_gorjeta` o menor valor da colula **gorjeta**"
      ]
    },
    {
      "cell_type": "code",
      "metadata": {
        "id": "0gtuiuuIkRuX"
      },
      "source": [
        "#Coloque sua resposta aqui\n",
        "min_gorjeta = df['gorjeta'].min()"
      ],
      "execution_count": null,
      "outputs": []
    },
    {
      "cell_type": "code",
      "metadata": {
        "id": "XBq4l8jbkRms",
        "colab": {
          "base_uri": "https://localhost:8080/"
        },
        "outputId": "3eb967ad-fc86-48dc-b50e-ef51dbec7e5f"
      },
      "source": [
        "print(min_gorjeta)"
      ],
      "execution_count": null,
      "outputs": [
        {
          "output_type": "stream",
          "text": [
            "1.0\n"
          ],
          "name": "stdout"
        }
      ]
    },
    {
      "cell_type": "markdown",
      "metadata": {
        "id": "fQj0RSSRTXiV"
      },
      "source": [
        "### 15) (Debugging) Encontre e arrume o erro do código abaixo:"
      ]
    },
    {
      "cell_type": "code",
      "metadata": {
        "colab": {
          "base_uri": "https://localhost:8080/"
        },
        "id": "E2W8KxAYTw7H",
        "outputId": "f223cc07-000c-4b04-860d-21adb3722113"
      },
      "source": [
        "idades = {\n",
        "    'Michael Scott': 43,\n",
        "    'Pam Beesly': 24,\n",
        "    'Jim Halpert': 25\n",
        "}\n",
        "\n",
        "michael = f'Michael Scott tem {idades[\"Michael Scott\"]} anos de idade.'\n",
        "print(michael)"
      ],
      "execution_count": null,
      "outputs": [
        {
          "output_type": "stream",
          "text": [
            "Michael Scott tem 43 anos de idade.\n"
          ],
          "name": "stdout"
        }
      ]
    },
    {
      "cell_type": "code",
      "metadata": {
        "id": "xVxyp5mhUXV3"
      },
      "source": [
        ""
      ],
      "execution_count": null,
      "outputs": []
    }
  ]
}